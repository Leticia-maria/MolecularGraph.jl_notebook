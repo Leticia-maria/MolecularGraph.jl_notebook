{
 "cells": [
  {
   "cell_type": "markdown",
   "metadata": {},
   "source": [
    "# Mass and isotopes\n",
    "\n",
    "This tutorial includes following fundamental operations related to molecular mass and isotopes.\n",
    "\n",
    "- Molecular weight (Relative molecular mass)\n",
    "- Calculated exact mass and monoisotopic mass\n",
    "- Isotopic composition\n",
    "- Simulate mass spectrum"
   ]
  },
  {
   "cell_type": "markdown",
   "metadata": {},
   "source": [
    "## Loading packages\n",
    "\n",
    "This tutorial uses `PlotlyJS.jl` to display simulated mass spectrum."
   ]
  },
  {
   "cell_type": "code",
   "execution_count": 1,
   "metadata": {
    "ExecuteTime": {
     "end_time": "2020-04-16T17:47:07.670000+09:00",
     "start_time": "2020-04-16T08:46:27.631Z"
    },
    "scrolled": true
   },
   "outputs": [
    {
     "name": "stdout",
     "output_type": "stream",
     "text": [
      "\u001b[32m\u001b[1mActivating\u001b[22m\u001b[39m environment at `~/Workspace/MolecularGraph.jl_notebook/Project.toml`\n"
     ]
    },
    {
     "name": "stderr",
     "output_type": "stream",
     "text": [
      "┌ Info: Precompiling PlotlyJS [f0f68f2c-4968-5e81-91da-67840de0976a]\n",
      "└ @ Base loading.jl:1273\n"
     ]
    },
    {
     "data": {
      "text/html": [
       "<script>\n",
       "// Immediately-invoked-function-expression to avoid global variables.\n",
       "(function() {\n",
       "    var warning_div = document.getElementById(\"webio-warning-7743221617512784794\");\n",
       "    var hide = function () {\n",
       "        var script = document.getElementById(\"webio-setup-17214213248997225686\");\n",
       "        var parent = script && script.parentElement;\n",
       "        var grandparent = parent && parent.parentElement;\n",
       "        if (grandparent) {\n",
       "            grandparent.style.display = \"none\";\n",
       "        }\n",
       "        warning_div.style.display = \"none\";\n",
       "    };\n",
       "    if (typeof Jupyter !== \"undefined\") {\n",
       "        console.log(\"WebIO detected Jupyter notebook environment.\");\n",
       "        // Jupyter notebook.\n",
       "        var extensions = (\n",
       "            Jupyter\n",
       "            && Jupyter.notebook.config.data\n",
       "            && Jupyter.notebook.config.data.load_extensions\n",
       "        );\n",
       "        if (extensions && extensions[\"webio-jupyter-notebook\"]) {\n",
       "            // Extension already loaded.\n",
       "            console.log(\"Jupyter WebIO nbextension detected; not loading ad-hoc.\");\n",
       "            hide();\n",
       "            return;\n",
       "        }\n",
       "    } else if (window.location.pathname.includes(\"/lab\")) {\n",
       "        // Guessing JupyterLa\n",
       "        console.log(\"Jupyter Lab detected; make sure the @webio/jupyter-lab-provider labextension is installed.\");\n",
       "        hide();\n",
       "        return;\n",
       "    }\n",
       "})();\n",
       "\n",
       "</script>\n",
       "<p\n",
       "    id=\"webio-warning-7743221617512784794\"\n",
       "    class=\"output_text output_stderr\"\n",
       "    style=\"padding: 1em; font-weight: bold;\"\n",
       ">\n",
       "    Unable to load WebIO. Please make sure WebIO works for your Jupyter client.\n",
       "    For troubleshooting, please see <a href=\"https://juliagizmos.github.io/WebIO.jl/latest/providers/ijulia/\">\n",
       "    the WebIO/IJulia documentation</a>.\n",
       "    <!-- TODO: link to installation docs. -->\n",
       "</p>\n"
      ],
      "text/plain": [
       "HTML{String}(\"<script>\\n// Immediately-invoked-function-expression to avoid global variables.\\n(function() {\\n    var warning_div = document.getElementById(\\\"webio-warning-7743221617512784794\\\");\\n    var hide = function () {\\n        var script = document.getElementById(\\\"webio-setup-17214213248997225686\\\");\\n        var parent = script && script.parentElement;\\n        var grandparent = parent && parent.parentElement;\\n        if (grandparent) {\\n            grandparent.style.display = \\\"none\\\";\\n        }\\n        warning_div.style.display = \\\"none\\\";\\n    };\\n    if (typeof Jupyter !== \\\"undefined\\\") {\\n        console.log(\\\"WebIO detected Jupyter notebook environment.\\\");\\n        // Jupyter notebook.\\n        var extensions = (\\n            Jupyter\\n            && Jupyter.notebook.config.data\\n            && Jupyter.notebook.config.data.load_extensions\\n        );\\n        if (extensions && extensions[\\\"webio-jupyter-notebook\\\"]) {\\n            // Extension already loaded.\\n            console.log(\\\"Jupyter WebIO nbextension detected; not loading ad-hoc.\\\");\\n            hide();\\n            return;\\n        }\\n    } else if (window.location.pathname.includes(\\\"/lab\\\")) {\\n        // Guessing JupyterLa\\n        console.log(\\\"Jupyter Lab detected; make sure the @webio/jupyter-lab-provider labextension is installed.\\\");\\n        hide();\\n        return;\\n    }\\n})();\\n\\n</script>\\n<p\\n    id=\\\"webio-warning-7743221617512784794\\\"\\n    class=\\\"output_text output_stderr\\\"\\n    style=\\\"padding: 1em; font-weight: bold;\\\"\\n>\\n    Unable to load WebIO. Please make sure WebIO works for your Jupyter client.\\n    For troubleshooting, please see <a href=\\\"https://juliagizmos.github.io/WebIO.jl/latest/providers/ijulia/\\\">\\n    the WebIO/IJulia documentation</a>.\\n    <!-- TODO: link to installation docs. -->\\n</p>\\n\")"
      ]
     },
     "metadata": {},
     "output_type": "display_data"
    }
   ],
   "source": [
    "import Pkg\n",
    "Pkg.activate(\"..\")\n",
    "using MolecularGraph\n",
    "using PlotlyJS"
   ]
  },
  {
   "cell_type": "markdown",
   "metadata": {},
   "source": [
    "## Molecular weight (Relative molecular mass)\n",
    "\n",
    "Molecular weight (Relative molecular mass) can be calculated by `standardweight` method."
   ]
  },
  {
   "cell_type": "code",
   "execution_count": 85,
   "metadata": {
    "ExecuteTime": {
     "end_time": "2020-04-16T23:14:18.182000+09:00",
     "start_time": "2020-04-16T14:14:17.802Z"
    }
   },
   "outputs": [
    {
     "data": {
      "text/plain": [
       "(46.069, 0.004529999999995926)"
      ]
     },
     "execution_count": 85,
     "metadata": {},
     "output_type": "execute_result"
    }
   ],
   "source": [
    "standardweight(smilestomol(\"CCO\"))"
   ]
  },
  {
   "cell_type": "markdown",
   "metadata": {},
   "source": [
    "- `standardweight` returns the tuple of standard weight and its uncertainty, respectively. The result shown above means the molecular weight of C2H5O is 46.069±0.005.\n",
    "- If you dont need uncertainty, give Float64 type to the method. Then the value will be rounded at 2 digits after the decimal point."
   ]
  },
  {
   "cell_type": "code",
   "execution_count": 86,
   "metadata": {
    "ExecuteTime": {
     "end_time": "2020-04-16T23:17:47.606000+09:00",
     "start_time": "2020-04-16T14:17:47.401Z"
    }
   },
   "outputs": [
    {
     "data": {
      "text/plain": [
       "46.07"
      ]
     },
     "execution_count": 86,
     "metadata": {},
     "output_type": "execute_result"
    }
   ],
   "source": [
    "standardweight(Float64, smilestomol(\"CCO\"))"
   ]
  },
  {
   "cell_type": "markdown",
   "metadata": {},
   "source": [
    "## Calculated exact mass and monoisotopic mass\n",
    "\n",
    "Both `exactmass` and `monoisotopicmass` returns exact mass of the given molecule. The difference is that `exactmass` considers atomic mass specified in `Atom.mass` fields of atoms whereas `monoisotopicmass` always returns exact mass of the molecule consists of the most abundant isotopes in terrestrial sources."
   ]
  },
  {
   "cell_type": "code",
   "execution_count": 90,
   "metadata": {
    "ExecuteTime": {
     "end_time": "2020-04-16T23:35:49.535000+09:00",
     "start_time": "2020-04-16T14:35:48.884Z"
    }
   },
   "outputs": [
    {
     "name": "stdout",
     "output_type": "stream",
     "text": [
      "Monoisotopic: (46.041864812949996, 7.1e-10)\n",
      "Exact: (46.041864812949996, 7.1e-10)\n"
     ]
    },
    {
     "data": {
      "text/plain": [
       "9-element Array{Int64,1}:\n",
       " 0\n",
       " 0\n",
       " 0\n",
       " 0\n",
       " 0\n",
       " 0\n",
       " 0\n",
       " 0\n",
       " 0"
      ]
     },
     "execution_count": 90,
     "metadata": {},
     "output_type": "execute_result"
    }
   ],
   "source": [
    "etohd6 = smilestomol(\"[2H]C([2H])([2H])C([2H])([2H])O[2H]\")\n",
    "\n",
    "println(\"Monoisotopic: \", monoisotopicmass(etohd6))\n",
    "println(\"Exact: \", exactmass(etohd6))\n",
    "implicithcount(etohd6)"
   ]
  },
  {
   "cell_type": "code",
   "execution_count": 19,
   "metadata": {
    "ExecuteTime": {
     "end_time": "2020-04-16T18:32:35.515000+09:00",
     "start_time": "2020-04-16T09:32:35.498Z"
    }
   },
   "outputs": [],
   "source": [
    "mol = smilestomol(\"c1cc(ccc1[C@H]([C@@H](CO)NC(=O)C(Cl)Cl)O)[N+](=O)[O-]\")\n",
    "rcds = simulatemassspec(mol)\n",
    "arr = zeros(Float64, length(rcds), 2)\n",
    "for (i, rcd) in enumerate(rcds)\n",
    "    arr[i, :] = [rcd[1], rcd[2]]\n",
    "end"
   ]
  },
  {
   "cell_type": "code",
   "execution_count": 84,
   "metadata": {
    "ExecuteTime": {
     "end_time": "2020-04-16T22:36:42.381000+09:00",
     "start_time": "2020-04-16T13:36:42.278Z"
    }
   },
   "outputs": [
    {
     "data": {
      "image/svg+xml": [
       "<svg xmlns=\"http://www.w3.org/2000/svg\"\n",
       " xmlns:xlink=\"http://www.w3.org/1999/xlink\"\n",
       " version=\"1.2\" baseProfile=\"tiny\"\n",
       " text-rendering=\"geometricPrecision\"\n",
       " preserveAspectRatio=\"xMidYMid meet\"\n",
       " font-weight=\"normal\"\n",
       " font-family=\"Helvetica\"\n",
       " width=\"200\" height=\"200\"\n",
       " viewBox=\"0 0 319.83 179.84\">\n",
       "<rect x=\"0\" y=\"0\" width=\"319.83\" height=\"179.84\"\n",
       " fill=\"rgb(255, 255, 255)\" opacity=\"0.0\"/>\n",
       "<line x1=\"81.99\" y1=\"104.98\" x2=\"81.96\" y2=\"74.98\" stroke=\"rgb(0, 0, 0)\" /><polygon points=\"0,0 1,1 1,-1\" fill=\"rgb(0, 0, 0)\" transform=\"matrix(14.98 -25.99 3.90 2.25 185.91 104.90)\"/>\n",
       "<line x1=\"133.95\" y1=\"104.94\" x2=\"159.94\" y2=\"119.92\" stroke=\"rgb(0, 0, 0)\" /><line x1=\"159.94\" y1=\"119.92\" x2=\"185.91\" y2=\"104.90\" stroke=\"rgb(0, 0, 0)\" /><polygon points=\"0,0 1,1 1,-1\" fill=\"rgb(0, 0, 0)\" transform=\"matrix(10.52 18.18 -2.73 1.58 159.94 119.92)\"/>\n",
       "<line x1=\"81.96\" y1=\"74.98\" x2=\"107.93\" y2=\"59.96\" stroke=\"rgb(0, 0, 0)\" /><line x1=\"81.96\" y1=\"74.98\" x2=\"72.86\" y2=\"69.74\" stroke=\"rgb(0, 0, 0)\" />\n",
       "<line x1=\"72.86\" y1=\"69.74\" x2=\"63.77\" y2=\"64.49\" stroke=\"rgb(0, 0, 255)\" />\n",
       "<line x1=\"219.69\" y1=\"115.37\" x2=\"228.78\" y2=\"110.12\" stroke=\"rgb(0, 0, 255)\" />\n",
       "<line x1=\"228.78\" y1=\"110.12\" x2=\"237.87\" y2=\"104.86\" stroke=\"rgb(0, 0, 0)\" />\n",
       "<line x1=\"200.89\" y1=\"78.91\" x2=\"195.63\" y2=\"69.82\" stroke=\"rgb(0, 0, 0)\" />\n",
       "<line x1=\"195.63\" y1=\"69.82\" x2=\"190.37\" y2=\"60.73\" stroke=\"rgb(255, 0, 0)\" />\n",
       "<line x1=\"263.86\" y1=\"119.84\" x2=\"263.87\" y2=\"130.34\" stroke=\"rgb(0, 0, 0)\" />\n",
       "<line x1=\"263.87\" y1=\"130.34\" x2=\"263.88\" y2=\"140.84\" stroke=\"rgb(64, 192, 64)\" />\n",
       "<line x1=\"237.87\" y1=\"104.86\" x2=\"263.86\" y2=\"119.84\" stroke=\"rgb(0, 0, 0)\" /><line x1=\"58.21\" y1=\"51.00\" x2=\"58.21\" y2=\"45.00\" stroke=\"rgb(0, 0, 255)\" />\n",
       "<line x1=\"58.21\" y1=\"45.00\" x2=\"58.20\" y2=\"39.00\" stroke=\"rgb(255, 0, 0)\" />\n",
       "<line x1=\"53.71\" y1=\"51.00\" x2=\"53.71\" y2=\"45.00\" stroke=\"rgb(0, 0, 255)\" />\n",
       "<line x1=\"53.71\" y1=\"45.00\" x2=\"53.70\" y2=\"39.00\" stroke=\"rgb(255, 0, 0)\" />\n",
       "<g stroke=\"rgb(0, 0, 0)\" stroke-width=\"0.3\" transform=\"matrix(-1.50 -2.60 0.39 -0.23 185.91 104.90)\">\n",
       " <line x1=\"0\" y1=\"1\" x2=\"0\" y2=\"-1\" />\n",
       " <line x1=\"1\" y1=\"2\" x2=\"1\" y2=\"-2\" />\n",
       " <line x1=\"2\" y1=\"3\" x2=\"2\" y2=\"-3\" />\n",
       " <line x1=\"3\" y1=\"4\" x2=\"3\" y2=\"-4\" />\n",
       " <line x1=\"4\" y1=\"5\" x2=\"4\" y2=\"-5\" />\n",
       " <line x1=\"5\" y1=\"6\" x2=\"5\" y2=\"-6\" />\n",
       " <line x1=\"6\" y1=\"7\" x2=\"6\" y2=\"-7\" />\n",
       " <line x1=\"7\" y1=\"8\" x2=\"7\" y2=\"-8\" />\n",
       "</g>\n",
       "<g stroke-width=\"0.3\" transform=\"matrix(-1.50 2.60 -0.39 -0.22 159.94 119.92)\">\n",
       " <line x1=\"0\" y1=\"1\" x2=\"0\" y2=\"-1\" stroke=\"rgb(0, 0, 0)\" />\n",
       " <line x1=\"1\" y1=\"2\" x2=\"1\" y2=\"-2\" stroke=\"rgb(0, 0, 0)\" />\n",
       " <line x1=\"2\" y1=\"3\" x2=\"2\" y2=\"-3\" stroke=\"rgb(0, 0, 0)\" />\n",
       " <line x1=\"3\" y1=\"4\" x2=\"3\" y2=\"-4\" stroke=\"rgb(0, 0, 0)\" />\n",
       " <line x1=\"4\" y1=\"5\" x2=\"4\" y2=\"-5\" stroke=\"rgb(255, 0, 0)\" />\n",
       " <line x1=\"5\" y1=\"6\" x2=\"5\" y2=\"-6\" stroke=\"rgb(255, 0, 0)\" />\n",
       " <line x1=\"6\" y1=\"7\" x2=\"6\" y2=\"-7\" stroke=\"rgb(255, 0, 0)\" />\n",
       " <line x1=\"7\" y1=\"8\" x2=\"7\" y2=\"-8\" stroke=\"rgb(255, 0, 0)\" />\n",
       "</g>\n",
       "<line x1=\"263.86\" y1=\"119.84\" x2=\"272.95\" y2=\"114.58\" stroke=\"rgb(0, 0, 0)\" />\n",
       "<line x1=\"272.95\" y1=\"114.58\" x2=\"282.04\" y2=\"109.32\" stroke=\"rgb(64, 192, 64)\" />\n",
       "<line x1=\"48.18\" y1=\"64.51\" x2=\"42.98\" y2=\"67.51\" stroke=\"rgb(0, 0, 255)\" />\n",
       "<line x1=\"42.98\" y1=\"67.51\" x2=\"37.79\" y2=\"70.51\" stroke=\"rgb(255, 0, 0)\" />\n",
       "<line x1=\"133.95\" y1=\"104.94\" x2=\"107.98\" y2=\"119.96\" stroke=\"rgb(0, 0, 0)\" /><line x1=\"107.93\" y1=\"59.96\" x2=\"133.92\" y2=\"74.94\" stroke=\"rgb(0, 0, 0)\" /><line x1=\"133.92\" y1=\"74.94\" x2=\"133.95\" y2=\"104.94\" stroke=\"rgb(0, 0, 0)\" /><line x1=\"185.91\" y1=\"104.90\" x2=\"195.01\" y2=\"110.14\" stroke=\"rgb(0, 0, 0)\" />\n",
       "<line x1=\"195.01\" y1=\"110.14\" x2=\"204.10\" y2=\"115.38\" stroke=\"rgb(0, 0, 255)\" />\n",
       "<line x1=\"240.12\" y1=\"104.86\" x2=\"240.11\" y2=\"94.36\" stroke=\"rgb(0, 0, 0)\" />\n",
       "<line x1=\"240.11\" y1=\"94.36\" x2=\"240.10\" y2=\"83.86\" stroke=\"rgb(255, 0, 0)\" />\n",
       "<line x1=\"235.62\" y1=\"104.86\" x2=\"235.61\" y2=\"94.36\" stroke=\"rgb(0, 0, 0)\" />\n",
       "<line x1=\"235.61\" y1=\"94.36\" x2=\"235.60\" y2=\"83.86\" stroke=\"rgb(255, 0, 0)\" />\n",
       "<line x1=\"107.98\" y1=\"119.96\" x2=\"81.99\" y2=\"104.98\" stroke=\"rgb(0, 0, 0)\" /><text x=\"174.96\" y=\"152.89\" font-size=\"14.0\"\n",
       " fill=\"rgb(0, 0, 0)\" text-anchor=\"middle\" >H</text>\n",
       "<text x=\"55.97\" y=\"67.00\" font-size=\"14.0\"\n",
       " fill=\"rgb(0, 0, 255)\" text-anchor=\"middle\" >N<tspan baseline-shift=\"50%\" font-size=\"10\">+</tspan></text>\n",
       "<text x=\"192.87\" y=\"59.94\" font-size=\"14.0\"\n",
       " fill=\"rgb(255, 0, 0)\" text-anchor=\"end\" >HO</text>\n",
       "<text x=\"263.89\" y=\"156.84\" font-size=\"14.0\"\n",
       " fill=\"rgb(64, 192, 64)\" text-anchor=\"middle\" >Cl</text>\n",
       "<text x=\"55.94\" y=\"37.00\" font-size=\"14.0\"\n",
       " fill=\"rgb(255, 0, 0)\" text-anchor=\"middle\" >O</text>\n",
       "<text x=\"170.89\" y=\"85.93\" font-size=\"14.0\"\n",
       " fill=\"rgb(0, 0, 0)\" text-anchor=\"middle\" >H</text>\n",
       "<text x=\"151.96\" y=\"152.91\" font-size=\"14.0\"\n",
       " fill=\"rgb(255, 0, 0)\" text-anchor=\"end\" >HO</text>\n",
       "<text x=\"289.83\" y=\"111.82\" font-size=\"14.0\"\n",
       " fill=\"rgb(64, 192, 64)\" text-anchor=\"middle\" >Cl</text>\n",
       "<text x=\"30.00\" y=\"82.02\" font-size=\"14.0\"\n",
       " fill=\"rgb(255, 0, 0)\" text-anchor=\"middle\" >O<tspan baseline-shift=\"50%\" font-size=\"10\">–</tspan></text>\n",
       "<text x=\"211.90\" y=\"126.88\" font-size=\"14.0\"\n",
       " fill=\"rgb(0, 0, 255)\" text-anchor=\"middle\" >NH</text>\n",
       "<text x=\"237.85\" y=\"81.86\" font-size=\"14.0\"\n",
       " fill=\"rgb(255, 0, 0)\" text-anchor=\"middle\" >O</text>\n",
       "</svg>\n"
      ]
     },
     "metadata": {},
     "output_type": "display_data"
    },
    {
     "data": {
      "application/vnd.plotly.v1+json": {
       "data": [
        {
         "marker": {
          "color": "#2ca02c",
          "size": 2
         },
         "mode": "markers",
         "name": "Intensity",
         "type": "scatter",
         "x": [
          328.059277,
          329.056312,
          329.062632,
          329.065554,
          330.056327,
          330.063522,
          330.065987,
          331.053362,
          331.059682,
          332.053377,
          332.060572,
          332.063037,
          333.056732
         ],
         "y": [
          100,
          0.7,
          11.9,
          0.2,
          64,
          1,
          0.6,
          0.5,
          7.6,
          10.2,
          0.7,
          0.4,
          1.2
         ]
        },
        {
         "hoverinfo": "skip",
         "line": {
          "color": "#2ca02c",
          "width": 2
         },
         "mode": "lines",
         "type": "scatter",
         "x": [
          328.059277,
          328.059277
         ],
         "y": [
          0,
          100
         ]
        },
        {
         "hoverinfo": "skip",
         "line": {
          "color": "#2ca02c",
          "width": 2
         },
         "mode": "lines",
         "type": "scatter",
         "x": [
          329.056312,
          329.056312
         ],
         "y": [
          0,
          0.7
         ]
        },
        {
         "hoverinfo": "skip",
         "line": {
          "color": "#2ca02c",
          "width": 2
         },
         "mode": "lines",
         "type": "scatter",
         "x": [
          329.062632,
          329.062632
         ],
         "y": [
          0,
          11.9
         ]
        },
        {
         "hoverinfo": "skip",
         "line": {
          "color": "#2ca02c",
          "width": 2
         },
         "mode": "lines",
         "type": "scatter",
         "x": [
          329.065554,
          329.065554
         ],
         "y": [
          0,
          0.2
         ]
        },
        {
         "hoverinfo": "skip",
         "line": {
          "color": "#2ca02c",
          "width": 2
         },
         "mode": "lines",
         "type": "scatter",
         "x": [
          330.056327,
          330.056327
         ],
         "y": [
          0,
          64
         ]
        },
        {
         "hoverinfo": "skip",
         "line": {
          "color": "#2ca02c",
          "width": 2
         },
         "mode": "lines",
         "type": "scatter",
         "x": [
          330.063522,
          330.063522
         ],
         "y": [
          0,
          1
         ]
        },
        {
         "hoverinfo": "skip",
         "line": {
          "color": "#2ca02c",
          "width": 2
         },
         "mode": "lines",
         "type": "scatter",
         "x": [
          330.065987,
          330.065987
         ],
         "y": [
          0,
          0.6
         ]
        },
        {
         "hoverinfo": "skip",
         "line": {
          "color": "#2ca02c",
          "width": 2
         },
         "mode": "lines",
         "type": "scatter",
         "x": [
          331.053362,
          331.053362
         ],
         "y": [
          0,
          0.5
         ]
        },
        {
         "hoverinfo": "skip",
         "line": {
          "color": "#2ca02c",
          "width": 2
         },
         "mode": "lines",
         "type": "scatter",
         "x": [
          331.059682,
          331.059682
         ],
         "y": [
          0,
          7.6
         ]
        },
        {
         "hoverinfo": "skip",
         "line": {
          "color": "#2ca02c",
          "width": 2
         },
         "mode": "lines",
         "type": "scatter",
         "x": [
          332.053377,
          332.053377
         ],
         "y": [
          0,
          10.2
         ]
        },
        {
         "hoverinfo": "skip",
         "line": {
          "color": "#2ca02c",
          "width": 2
         },
         "mode": "lines",
         "type": "scatter",
         "x": [
          332.060572,
          332.060572
         ],
         "y": [
          0,
          0.7
         ]
        },
        {
         "hoverinfo": "skip",
         "line": {
          "color": "#2ca02c",
          "width": 2
         },
         "mode": "lines",
         "type": "scatter",
         "x": [
          332.063037,
          332.063037
         ],
         "y": [
          0,
          0.4
         ]
        },
        {
         "hoverinfo": "skip",
         "line": {
          "color": "#2ca02c",
          "width": 2
         },
         "mode": "lines",
         "type": "scatter",
         "x": [
          333.056732,
          333.056732
         ],
         "y": [
          0,
          1.2
         ]
        }
       ],
       "layout": {
        "height": 300,
        "margin": {
         "b": 50,
         "l": 50,
         "r": 0,
         "t": 0
        },
        "showlegend": false,
        "width": 400,
        "xaxis": {
         "name": "Mass",
         "title": "Mass"
        },
        "yaxis": {
         "title": "Relative intensity"
        }
       }
      },
      "application/vnd.webio.node+json": {
       "children": [
        {
         "children": [],
         "instanceArgs": {
          "namespace": "html",
          "tag": "div"
         },
         "nodeType": "DOM",
         "props": {
          "id": "plot-c88a4689-29d7-4521-8ca1-aded111222ff"
         },
         "type": "node"
        }
       ],
       "instanceArgs": {
        "handlers": {
         "__get_gd_contents": [
          "(function (prop){prop==\"data\" ? (WebIO.setval({\"name\":\"__gd_contents\",\"scope\":\"8083562223453258313\",\"id\":\"ob_736\",\"type\":\"observable\"},this.plotElem.data)) : undefined; return prop==\"layout\" ? (WebIO.setval({\"name\":\"__gd_contents\",\"scope\":\"8083562223453258313\",\"id\":\"ob_736\",\"type\":\"observable\"},this.plotElem.layout)) : undefined})"
         ],
         "_commands": [
          "(function (args){var fn=args.shift(); var elem=this.plotElem; var Plotly=this.Plotly; args.unshift(elem); return Plotly[fn].apply(this,args)})"
         ],
         "_downloadImage": [
          "(function (options){return this.Plotly.downloadImage(this.plotElem,options)})"
         ],
         "_toImage": [
          "(function (options){return this.Plotly.toImage(this.plotElem,options).then((function (data){return WebIO.setval({\"name\":\"image\",\"scope\":\"8083562223453258313\",\"id\":\"ob_735\",\"type\":\"observable\"},data)}))})"
         ]
        },
        "id": "8083562223453258313",
        "imports": {
         "data": [
          {
           "name": "Plotly",
           "type": "js",
           "url": "/assetserver/483a741f5d4e04d610a69068b19eedf0a9caa902-plotly-latest.min.js"
          },
          {
           "name": null,
           "type": "js",
           "url": "/assetserver/c537fdfb9513bdc4d51668fd2b3842e00ae6fa52-plotly_webio.bundle.js"
          }
         ],
         "type": "async_block"
        },
        "mount_callbacks": [
         "function () {\n    var handler = ((function (Plotly,PlotlyWebIO){PlotlyWebIO.init(WebIO); var gd=this.dom.querySelector(\"#plot-c88a4689-29d7-4521-8ca1-aded111222ff\"); this.plotElem=gd; this.Plotly=Plotly; (window.Blink!==undefined) ? (gd.style.width=\"100%\", gd.style.height=\"100vh\", gd.style.marginLeft=\"0%\", gd.style.marginTop=\"0vh\") : undefined; window.onresize=(function (){return Plotly.Plots.resize(gd)}); Plotly.newPlot(gd,[{\"marker\":{\"color\":\"#2ca02c\",\"size\":2},\"mode\":\"markers\",\"y\":[100.0,0.7,11.9,0.2,64.0,1.0,0.6,0.5,7.6,10.2,0.7,0.4,1.2],\"type\":\"scatter\",\"name\":\"Intensity\",\"x\":[328.059277,329.056312,329.062632,329.065554,330.056327,330.063522,330.065987,331.053362,331.059682,332.053377,332.060572,332.063037,333.056732]},{\"mode\":\"lines\",\"line\":{\"color\":\"#2ca02c\",\"width\":2},\"y\":[0.0,100.0],\"type\":\"scatter\",\"hoverinfo\":\"skip\",\"x\":[328.059277,328.059277]},{\"mode\":\"lines\",\"line\":{\"color\":\"#2ca02c\",\"width\":2},\"y\":[0.0,0.7],\"type\":\"scatter\",\"hoverinfo\":\"skip\",\"x\":[329.056312,329.056312]},{\"mode\":\"lines\",\"line\":{\"color\":\"#2ca02c\",\"width\":2},\"y\":[0.0,11.9],\"type\":\"scatter\",\"hoverinfo\":\"skip\",\"x\":[329.062632,329.062632]},{\"mode\":\"lines\",\"line\":{\"color\":\"#2ca02c\",\"width\":2},\"y\":[0.0,0.2],\"type\":\"scatter\",\"hoverinfo\":\"skip\",\"x\":[329.065554,329.065554]},{\"mode\":\"lines\",\"line\":{\"color\":\"#2ca02c\",\"width\":2},\"y\":[0.0,64.0],\"type\":\"scatter\",\"hoverinfo\":\"skip\",\"x\":[330.056327,330.056327]},{\"mode\":\"lines\",\"line\":{\"color\":\"#2ca02c\",\"width\":2},\"y\":[0.0,1.0],\"type\":\"scatter\",\"hoverinfo\":\"skip\",\"x\":[330.063522,330.063522]},{\"mode\":\"lines\",\"line\":{\"color\":\"#2ca02c\",\"width\":2},\"y\":[0.0,0.6],\"type\":\"scatter\",\"hoverinfo\":\"skip\",\"x\":[330.065987,330.065987]},{\"mode\":\"lines\",\"line\":{\"color\":\"#2ca02c\",\"width\":2},\"y\":[0.0,0.5],\"type\":\"scatter\",\"hoverinfo\":\"skip\",\"x\":[331.053362,331.053362]},{\"mode\":\"lines\",\"line\":{\"color\":\"#2ca02c\",\"width\":2},\"y\":[0.0,7.6],\"type\":\"scatter\",\"hoverinfo\":\"skip\",\"x\":[331.059682,331.059682]},{\"mode\":\"lines\",\"line\":{\"color\":\"#2ca02c\",\"width\":2},\"y\":[0.0,10.2],\"type\":\"scatter\",\"hoverinfo\":\"skip\",\"x\":[332.053377,332.053377]},{\"mode\":\"lines\",\"line\":{\"color\":\"#2ca02c\",\"width\":2},\"y\":[0.0,0.7],\"type\":\"scatter\",\"hoverinfo\":\"skip\",\"x\":[332.060572,332.060572]},{\"mode\":\"lines\",\"line\":{\"color\":\"#2ca02c\",\"width\":2},\"y\":[0.0,0.4],\"type\":\"scatter\",\"hoverinfo\":\"skip\",\"x\":[332.063037,332.063037]},{\"mode\":\"lines\",\"line\":{\"color\":\"#2ca02c\",\"width\":2},\"y\":[0.0,1.2],\"type\":\"scatter\",\"hoverinfo\":\"skip\",\"x\":[333.056732,333.056732]}],{\"showlegend\":false,\"xaxis\":{\"name\":\"Mass\",\"title\":\"Mass\"},\"height\":300,\"margin\":{\"l\":50,\"b\":50,\"r\":0,\"t\":0},\"yaxis\":{\"title\":\"Relative intensity\"},\"width\":400},{}); gd.on(\"plotly_hover\",(function (data){var filtered_data=WebIO.PlotlyCommands.filterEventData(gd,data,\"hover\"); return !(filtered_data.isnil) ? (WebIO.setval({\"name\":\"hover\",\"scope\":\"8083562223453258313\",\"id\":\"ob_731\",\"type\":\"observable\"},filtered_data.out)) : undefined})); gd.on(\"plotly_unhover\",(function (){return WebIO.setval({\"name\":\"hover\",\"scope\":\"8083562223453258313\",\"id\":\"ob_731\",\"type\":\"observable\"},{})})); gd.on(\"plotly_selected\",(function (data){var filtered_data=WebIO.PlotlyCommands.filterEventData(gd,data,\"selected\"); return !(filtered_data.isnil) ? (WebIO.setval({\"name\":\"selected\",\"scope\":\"8083562223453258313\",\"id\":\"ob_732\",\"type\":\"observable\"},filtered_data.out)) : undefined})); gd.on(\"plotly_deselect\",(function (){return WebIO.setval({\"name\":\"selected\",\"scope\":\"8083562223453258313\",\"id\":\"ob_732\",\"type\":\"observable\"},{})})); gd.on(\"plotly_relayout\",(function (data){var filtered_data=WebIO.PlotlyCommands.filterEventData(gd,data,\"relayout\"); return !(filtered_data.isnil) ? (WebIO.setval({\"name\":\"relayout\",\"scope\":\"8083562223453258313\",\"id\":\"ob_734\",\"type\":\"observable\"},filtered_data.out)) : undefined})); return gd.on(\"plotly_click\",(function (data){var filtered_data=WebIO.PlotlyCommands.filterEventData(gd,data,\"click\"); return !(filtered_data.isnil) ? (WebIO.setval({\"name\":\"click\",\"scope\":\"8083562223453258313\",\"id\":\"ob_733\",\"type\":\"observable\"},filtered_data.out)) : undefined}))}));\n    (WebIO.importBlock({\"data\":[{\"name\":\"Plotly\",\"type\":\"js\",\"url\":\"/assetserver/483a741f5d4e04d610a69068b19eedf0a9caa902-plotly-latest.min.js\"},{\"name\":null,\"type\":\"js\",\"url\":\"/assetserver/c537fdfb9513bdc4d51668fd2b3842e00ae6fa52-plotly_webio.bundle.js\"}],\"type\":\"async_block\"})).then((imports) => handler.apply(this, imports));\n}\n"
        ],
        "observables": {
         "__gd_contents": {
          "id": "ob_736",
          "sync": false,
          "value": {}
         },
         "__get_gd_contents": {
          "id": "ob_740",
          "sync": false,
          "value": ""
         },
         "_commands": {
          "id": "ob_737",
          "sync": false,
          "value": []
         },
         "_downloadImage": {
          "id": "ob_739",
          "sync": false,
          "value": {}
         },
         "_toImage": {
          "id": "ob_738",
          "sync": false,
          "value": {}
         },
         "click": {
          "id": "ob_733",
          "sync": false,
          "value": {}
         },
         "hover": {
          "id": "ob_731",
          "sync": false,
          "value": {}
         },
         "image": {
          "id": "ob_735",
          "sync": true,
          "value": ""
         },
         "relayout": {
          "id": "ob_734",
          "sync": false,
          "value": {}
         },
         "selected": {
          "id": "ob_732",
          "sync": false,
          "value": {}
         }
        },
        "systemjs_options": null
       },
       "nodeType": "Scope",
       "props": {},
       "type": "node"
      },
      "text/html": [
       "<div\n",
       "    class=\"webio-mountpoint\"\n",
       "    data-webio-mountpoint=\"2325639355407157513\"\n",
       ">\n",
       "    <script>\n",
       "    if (window.require && require.defined && require.defined(\"nbextensions/webio-jupyter-notebook\")) {\n",
       "        console.log(\"Jupyter WebIO extension detected, not mounting.\");\n",
       "    } else if (window.WebIO) {\n",
       "        WebIO.mount(\n",
       "            document.querySelector('[data-webio-mountpoint=\"2325639355407157513\"]'),\n",
       "            {\"props\":{},\"nodeType\":\"Scope\",\"type\":\"node\",\"instanceArgs\":{\"imports\":{\"data\":[{\"name\":\"Plotly\",\"type\":\"js\",\"url\":\"\\/assetserver\\/483a741f5d4e04d610a69068b19eedf0a9caa902-plotly-latest.min.js\"},{\"name\":null,\"type\":\"js\",\"url\":\"\\/assetserver\\/c537fdfb9513bdc4d51668fd2b3842e00ae6fa52-plotly_webio.bundle.js\"}],\"type\":\"async_block\"},\"id\":\"8083562223453258313\",\"handlers\":{\"_toImage\":[\"(function (options){return this.Plotly.toImage(this.plotElem,options).then((function (data){return WebIO.setval({\\\"name\\\":\\\"image\\\",\\\"scope\\\":\\\"8083562223453258313\\\",\\\"id\\\":\\\"ob_735\\\",\\\"type\\\":\\\"observable\\\"},data)}))})\"],\"__get_gd_contents\":[\"(function (prop){prop==\\\"data\\\" ? (WebIO.setval({\\\"name\\\":\\\"__gd_contents\\\",\\\"scope\\\":\\\"8083562223453258313\\\",\\\"id\\\":\\\"ob_736\\\",\\\"type\\\":\\\"observable\\\"},this.plotElem.data)) : undefined; return prop==\\\"layout\\\" ? (WebIO.setval({\\\"name\\\":\\\"__gd_contents\\\",\\\"scope\\\":\\\"8083562223453258313\\\",\\\"id\\\":\\\"ob_736\\\",\\\"type\\\":\\\"observable\\\"},this.plotElem.layout)) : undefined})\"],\"_downloadImage\":[\"(function (options){return this.Plotly.downloadImage(this.plotElem,options)})\"],\"_commands\":[\"(function (args){var fn=args.shift(); var elem=this.plotElem; var Plotly=this.Plotly; args.unshift(elem); return Plotly[fn].apply(this,args)})\"]},\"systemjs_options\":null,\"mount_callbacks\":[\"function () {\\n    var handler = ((function (Plotly,PlotlyWebIO){PlotlyWebIO.init(WebIO); var gd=this.dom.querySelector(\\\"#plot-c88a4689-29d7-4521-8ca1-aded111222ff\\\"); this.plotElem=gd; this.Plotly=Plotly; (window.Blink!==undefined) ? (gd.style.width=\\\"100%\\\", gd.style.height=\\\"100vh\\\", gd.style.marginLeft=\\\"0%\\\", gd.style.marginTop=\\\"0vh\\\") : undefined; window.onresize=(function (){return Plotly.Plots.resize(gd)}); Plotly.newPlot(gd,[{\\\"marker\\\":{\\\"color\\\":\\\"#2ca02c\\\",\\\"size\\\":2},\\\"mode\\\":\\\"markers\\\",\\\"y\\\":[100.0,0.7,11.9,0.2,64.0,1.0,0.6,0.5,7.6,10.2,0.7,0.4,1.2],\\\"type\\\":\\\"scatter\\\",\\\"name\\\":\\\"Intensity\\\",\\\"x\\\":[328.059277,329.056312,329.062632,329.065554,330.056327,330.063522,330.065987,331.053362,331.059682,332.053377,332.060572,332.063037,333.056732]},{\\\"mode\\\":\\\"lines\\\",\\\"line\\\":{\\\"color\\\":\\\"#2ca02c\\\",\\\"width\\\":2},\\\"y\\\":[0.0,100.0],\\\"type\\\":\\\"scatter\\\",\\\"hoverinfo\\\":\\\"skip\\\",\\\"x\\\":[328.059277,328.059277]},{\\\"mode\\\":\\\"lines\\\",\\\"line\\\":{\\\"color\\\":\\\"#2ca02c\\\",\\\"width\\\":2},\\\"y\\\":[0.0,0.7],\\\"type\\\":\\\"scatter\\\",\\\"hoverinfo\\\":\\\"skip\\\",\\\"x\\\":[329.056312,329.056312]},{\\\"mode\\\":\\\"lines\\\",\\\"line\\\":{\\\"color\\\":\\\"#2ca02c\\\",\\\"width\\\":2},\\\"y\\\":[0.0,11.9],\\\"type\\\":\\\"scatter\\\",\\\"hoverinfo\\\":\\\"skip\\\",\\\"x\\\":[329.062632,329.062632]},{\\\"mode\\\":\\\"lines\\\",\\\"line\\\":{\\\"color\\\":\\\"#2ca02c\\\",\\\"width\\\":2},\\\"y\\\":[0.0,0.2],\\\"type\\\":\\\"scatter\\\",\\\"hoverinfo\\\":\\\"skip\\\",\\\"x\\\":[329.065554,329.065554]},{\\\"mode\\\":\\\"lines\\\",\\\"line\\\":{\\\"color\\\":\\\"#2ca02c\\\",\\\"width\\\":2},\\\"y\\\":[0.0,64.0],\\\"type\\\":\\\"scatter\\\",\\\"hoverinfo\\\":\\\"skip\\\",\\\"x\\\":[330.056327,330.056327]},{\\\"mode\\\":\\\"lines\\\",\\\"line\\\":{\\\"color\\\":\\\"#2ca02c\\\",\\\"width\\\":2},\\\"y\\\":[0.0,1.0],\\\"type\\\":\\\"scatter\\\",\\\"hoverinfo\\\":\\\"skip\\\",\\\"x\\\":[330.063522,330.063522]},{\\\"mode\\\":\\\"lines\\\",\\\"line\\\":{\\\"color\\\":\\\"#2ca02c\\\",\\\"width\\\":2},\\\"y\\\":[0.0,0.6],\\\"type\\\":\\\"scatter\\\",\\\"hoverinfo\\\":\\\"skip\\\",\\\"x\\\":[330.065987,330.065987]},{\\\"mode\\\":\\\"lines\\\",\\\"line\\\":{\\\"color\\\":\\\"#2ca02c\\\",\\\"width\\\":2},\\\"y\\\":[0.0,0.5],\\\"type\\\":\\\"scatter\\\",\\\"hoverinfo\\\":\\\"skip\\\",\\\"x\\\":[331.053362,331.053362]},{\\\"mode\\\":\\\"lines\\\",\\\"line\\\":{\\\"color\\\":\\\"#2ca02c\\\",\\\"width\\\":2},\\\"y\\\":[0.0,7.6],\\\"type\\\":\\\"scatter\\\",\\\"hoverinfo\\\":\\\"skip\\\",\\\"x\\\":[331.059682,331.059682]},{\\\"mode\\\":\\\"lines\\\",\\\"line\\\":{\\\"color\\\":\\\"#2ca02c\\\",\\\"width\\\":2},\\\"y\\\":[0.0,10.2],\\\"type\\\":\\\"scatter\\\",\\\"hoverinfo\\\":\\\"skip\\\",\\\"x\\\":[332.053377,332.053377]},{\\\"mode\\\":\\\"lines\\\",\\\"line\\\":{\\\"color\\\":\\\"#2ca02c\\\",\\\"width\\\":2},\\\"y\\\":[0.0,0.7],\\\"type\\\":\\\"scatter\\\",\\\"hoverinfo\\\":\\\"skip\\\",\\\"x\\\":[332.060572,332.060572]},{\\\"mode\\\":\\\"lines\\\",\\\"line\\\":{\\\"color\\\":\\\"#2ca02c\\\",\\\"width\\\":2},\\\"y\\\":[0.0,0.4],\\\"type\\\":\\\"scatter\\\",\\\"hoverinfo\\\":\\\"skip\\\",\\\"x\\\":[332.063037,332.063037]},{\\\"mode\\\":\\\"lines\\\",\\\"line\\\":{\\\"color\\\":\\\"#2ca02c\\\",\\\"width\\\":2},\\\"y\\\":[0.0,1.2],\\\"type\\\":\\\"scatter\\\",\\\"hoverinfo\\\":\\\"skip\\\",\\\"x\\\":[333.056732,333.056732]}],{\\\"showlegend\\\":false,\\\"xaxis\\\":{\\\"name\\\":\\\"Mass\\\",\\\"title\\\":\\\"Mass\\\"},\\\"height\\\":300,\\\"margin\\\":{\\\"l\\\":50,\\\"b\\\":50,\\\"r\\\":0,\\\"t\\\":0},\\\"yaxis\\\":{\\\"title\\\":\\\"Relative intensity\\\"},\\\"width\\\":400},{}); gd.on(\\\"plotly_hover\\\",(function (data){var filtered_data=WebIO.PlotlyCommands.filterEventData(gd,data,\\\"hover\\\"); return !(filtered_data.isnil) ? (WebIO.setval({\\\"name\\\":\\\"hover\\\",\\\"scope\\\":\\\"8083562223453258313\\\",\\\"id\\\":\\\"ob_731\\\",\\\"type\\\":\\\"observable\\\"},filtered_data.out)) : undefined})); gd.on(\\\"plotly_unhover\\\",(function (){return WebIO.setval({\\\"name\\\":\\\"hover\\\",\\\"scope\\\":\\\"8083562223453258313\\\",\\\"id\\\":\\\"ob_731\\\",\\\"type\\\":\\\"observable\\\"},{})})); gd.on(\\\"plotly_selected\\\",(function (data){var filtered_data=WebIO.PlotlyCommands.filterEventData(gd,data,\\\"selected\\\"); return !(filtered_data.isnil) ? (WebIO.setval({\\\"name\\\":\\\"selected\\\",\\\"scope\\\":\\\"8083562223453258313\\\",\\\"id\\\":\\\"ob_732\\\",\\\"type\\\":\\\"observable\\\"},filtered_data.out)) : undefined})); gd.on(\\\"plotly_deselect\\\",(function (){return WebIO.setval({\\\"name\\\":\\\"selected\\\",\\\"scope\\\":\\\"8083562223453258313\\\",\\\"id\\\":\\\"ob_732\\\",\\\"type\\\":\\\"observable\\\"},{})})); gd.on(\\\"plotly_relayout\\\",(function (data){var filtered_data=WebIO.PlotlyCommands.filterEventData(gd,data,\\\"relayout\\\"); return !(filtered_data.isnil) ? (WebIO.setval({\\\"name\\\":\\\"relayout\\\",\\\"scope\\\":\\\"8083562223453258313\\\",\\\"id\\\":\\\"ob_734\\\",\\\"type\\\":\\\"observable\\\"},filtered_data.out)) : undefined})); return gd.on(\\\"plotly_click\\\",(function (data){var filtered_data=WebIO.PlotlyCommands.filterEventData(gd,data,\\\"click\\\"); return !(filtered_data.isnil) ? (WebIO.setval({\\\"name\\\":\\\"click\\\",\\\"scope\\\":\\\"8083562223453258313\\\",\\\"id\\\":\\\"ob_733\\\",\\\"type\\\":\\\"observable\\\"},filtered_data.out)) : undefined}))}));\\n    (WebIO.importBlock({\\\"data\\\":[{\\\"name\\\":\\\"Plotly\\\",\\\"type\\\":\\\"js\\\",\\\"url\\\":\\\"\\/assetserver\\/483a741f5d4e04d610a69068b19eedf0a9caa902-plotly-latest.min.js\\\"},{\\\"name\\\":null,\\\"type\\\":\\\"js\\\",\\\"url\\\":\\\"\\/assetserver\\/c537fdfb9513bdc4d51668fd2b3842e00ae6fa52-plotly_webio.bundle.js\\\"}],\\\"type\\\":\\\"async_block\\\"})).then((imports) => handler.apply(this, imports));\\n}\\n\"],\"observables\":{\"_toImage\":{\"sync\":false,\"id\":\"ob_738\",\"value\":{}},\"hover\":{\"sync\":false,\"id\":\"ob_731\",\"value\":{}},\"selected\":{\"sync\":false,\"id\":\"ob_732\",\"value\":{}},\"__gd_contents\":{\"sync\":false,\"id\":\"ob_736\",\"value\":{}},\"click\":{\"sync\":false,\"id\":\"ob_733\",\"value\":{}},\"image\":{\"sync\":true,\"id\":\"ob_735\",\"value\":\"\"},\"__get_gd_contents\":{\"sync\":false,\"id\":\"ob_740\",\"value\":\"\"},\"_downloadImage\":{\"sync\":false,\"id\":\"ob_739\",\"value\":{}},\"relayout\":{\"sync\":false,\"id\":\"ob_734\",\"value\":{}},\"_commands\":{\"sync\":false,\"id\":\"ob_737\",\"value\":[]}}},\"children\":[{\"props\":{\"id\":\"plot-c88a4689-29d7-4521-8ca1-aded111222ff\"},\"nodeType\":\"DOM\",\"type\":\"node\",\"instanceArgs\":{\"namespace\":\"html\",\"tag\":\"div\"},\"children\":[]}]},\n",
       "            window,\n",
       "        );\n",
       "    } else {\n",
       "        document\n",
       "            .querySelector('[data-webio-mountpoint=\"2325639355407157513\"]')\n",
       "            .innerHTML = (\n",
       "                '<div style=\"padding: 1em; background-color: #f8d6da; border: 1px solid #f5c6cb\">' +\n",
       "                '<p><strong>WebIO not detected.</strong></p>' +\n",
       "                '<p>Please read ' +\n",
       "                '<a href=\"https://juliagizmos.github.io/WebIO.jl/latest/troubleshooting/not-detected/\" target=\"_blank\">the troubleshooting guide</a> ' +\n",
       "                'for more information on how to resolve this issue.</p>' +\n",
       "                '<p><a href=\"https://juliagizmos.github.io/WebIO.jl/latest/troubleshooting/not-detected/\" target=\"_blank\">https://juliagizmos.github.io/WebIO.jl/latest/troubleshooting/not-detected/</a></p>' +\n",
       "                '</div>'\n",
       "            );\n",
       "    }\n",
       "    </script>\n",
       "</div>\n"
      ],
      "text/plain": [
       "data: [\n",
       "  \"scatter with fields marker, mode, name, type, x, and y\",\n",
       "  \"scatter with fields hoverinfo, line, mode, type, x, and y\",\n",
       "  \"scatter with fields hoverinfo, line, mode, type, x, and y\",\n",
       "  \"scatter with fields hoverinfo, line, mode, type, x, and y\",\n",
       "  \"scatter with fields hoverinfo, line, mode, type, x, and y\",\n",
       "  \"scatter with fields hoverinfo, line, mode, type, x, and y\",\n",
       "  \"scatter with fields hoverinfo, line, mode, type, x, and y\",\n",
       "  \"scatter with fields hoverinfo, line, mode, type, x, and y\",\n",
       "  \"scatter with fields hoverinfo, line, mode, type, x, and y\",\n",
       "  \"scatter with fields hoverinfo, line, mode, type, x, and y\",\n",
       "  \"scatter with fields hoverinfo, line, mode, type, x, and y\",\n",
       "  \"scatter with fields hoverinfo, line, mode, type, x, and y\",\n",
       "  \"scatter with fields hoverinfo, line, mode, type, x, and y\",\n",
       "  \"scatter with fields hoverinfo, line, mode, type, x, and y\"\n",
       "]\n",
       "\n",
       "layout: \"layout with fields height, margin, showlegend, width, xaxis, and yaxis\"\n",
       "\n"
      ]
     },
     "execution_count": 84,
     "metadata": {
      "application/vnd.webio.node+json": {
       "kernelId": "804e7c02-6ead-4315-9ae8-9e26958758e5"
      }
     },
     "output_type": "execute_result"
    }
   ],
   "source": [
    "display(\"image/svg+xml\", drawsvg(mol, 200, 200))\n",
    "\n",
    "datapoints= scatter(\n",
    "    x=arr[:, 1], y=arr[:, 2], name=\"Intensity\",\n",
    "    mode=\"markers\", marker_size=2, marker_color=\"#2ca02c\"\n",
    ")\n",
    "lines = map(eachrow(arr)) do r\n",
    "    scatter(\n",
    "        x=[r[1], r[1]], y=[0, r[2]],\n",
    "        mode=\"lines\", line_width=2, line_color=\"#2ca02c\", hoverinfo=\"skip\"\n",
    "    )\n",
    "end\n",
    "data = Base.typed_vcat(GenericTrace, datapoints, lines)\n",
    "layout = Layout(\n",
    "    width=400, height=300,\n",
    "    margin=Dict(:l => 50, :b => 50),\n",
    "    showlegend=false,\n",
    "    yaxis=Dict(:title => \"Relative intensity\"), xaxis=Dict(:title => \"Mass\")\n",
    ")\n",
    "plot(data, layout)"
   ]
  }
 ],
 "metadata": {
  "@webio": {
   "lastCommId": "ac23112705664de8ae666e57d493b3e3",
   "lastKernelId": "575cb105-1daf-4f32-9a29-c32f94a8dfd3"
  },
  "jupytext": {
   "formats": "ipynb,md"
  },
  "kernelspec": {
   "display_name": "Julia 1.3.1",
   "language": "julia",
   "name": "julia-1.3"
  },
  "language_info": {
   "file_extension": ".jl",
   "mimetype": "application/julia",
   "name": "julia",
   "version": "1.3.0"
  }
 },
 "nbformat": 4,
 "nbformat_minor": 2
}
